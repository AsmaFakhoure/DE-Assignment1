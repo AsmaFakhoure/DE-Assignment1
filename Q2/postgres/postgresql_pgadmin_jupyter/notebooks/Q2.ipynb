{
 "cells": [
  {
   "cell_type": "code",
   "execution_count": 1,
   "id": "84b99705-a874-4b8b-b39e-78b5164ace4e",
   "metadata": {},
   "outputs": [
    {
     "name": "stdout",
     "output_type": "stream",
     "text": [
      "Collecting psycopg2-binary\n",
      "  Downloading psycopg2_binary-2.8.6-cp38-cp38-manylinux1_x86_64.whl (3.0 MB)\n",
      "\u001b[K     |████████████████████████████████| 3.0 MB 20 kB/s eta 0:00:016\n",
      "\u001b[?25hInstalling collected packages: psycopg2-binary\n",
      "Successfully installed psycopg2-binary-2.8.6\n"
     ]
    }
   ],
   "source": [
    "!pip install psycopg2-binary"
   ]
  },
  {
   "cell_type": "code",
   "execution_count": 2,
   "id": "a1786b4f-e7e7-44d4-89cc-75f0de24281c",
   "metadata": {},
   "outputs": [
    {
     "name": "stdout",
     "output_type": "stream",
     "text": [
      "Collecting faker\n",
      "  Downloading Faker-8.1.4-py3-none-any.whl (1.2 MB)\n",
      "\u001b[K     |████████████████████████████████| 1.2 MB 101 kB/s ta 0:00:012     |██████████████▋                 | 532 kB 51 kB/s eta 0:00:13\n",
      "\u001b[?25hRequirement already satisfied: python-dateutil>=2.4 in /opt/conda/lib/python3.8/site-packages (from faker) (2.8.1)\n",
      "Collecting text-unidecode==1.3\n",
      "  Downloading text_unidecode-1.3-py2.py3-none-any.whl (78 kB)\n",
      "\u001b[K     |████████████████████████████████| 78 kB 67 kB/s eta 0:00:011\n",
      "\u001b[?25hRequirement already satisfied: six>=1.5 in /opt/conda/lib/python3.8/site-packages (from python-dateutil>=2.4->faker) (1.15.0)\n",
      "Installing collected packages: text-unidecode, faker\n",
      "Successfully installed faker-8.1.4 text-unidecode-1.3\n",
      "Collecting pandas\n",
      "  Downloading pandas-1.2.4-cp38-cp38-manylinux1_x86_64.whl (9.7 MB)\n",
      "\u001b[K     |████████████████████████████████| 9.7 MB 22 kB/s eta 0:00:016     |█████████▋                      | 2.9 MB 225 kB/s eta 0:00:31\n",
      "\u001b[?25hRequirement already satisfied: python-dateutil>=2.7.3 in /opt/conda/lib/python3.8/site-packages (from pandas) (2.8.1)\n",
      "Requirement already satisfied: pytz>=2017.3 in /opt/conda/lib/python3.8/site-packages (from pandas) (2021.1)\n",
      "Collecting numpy>=1.16.5\n",
      "  Downloading numpy-1.20.3-cp38-cp38-manylinux_2_12_x86_64.manylinux2010_x86_64.whl (15.4 MB)\n",
      "\u001b[K     |████████████████████████████████| 15.4 MB 303 bytes/s  0:00:01    |█████████▎                      | 4.4 MB 131 kB/s eta 0:01:24     |██████████████████████▎         | 10.7 MB 35 kB/s eta 0:02:12\n",
      "\u001b[?25hRequirement already satisfied: six>=1.5 in /opt/conda/lib/python3.8/site-packages (from python-dateutil>=2.7.3->pandas) (1.15.0)\n",
      "Installing collected packages: numpy, pandas\n",
      "Successfully installed numpy-1.20.3 pandas-1.2.4\n"
     ]
    }
   ],
   "source": [
    "try:\n",
    "    from faker import Faker\n",
    "except:\n",
    "   !pip install faker \n",
    "   from faker import Faker\n",
    "    \n",
    "try:\n",
    "    import psycopg2 \n",
    "except:\n",
    "    !pip install psycopg2-binary \n",
    "    import psycopg2\n",
    "    \n",
    "try:\n",
    "    from sqlalchemy import create_engine\n",
    "except:\n",
    "    !pip install sqlalchemy\n",
    "    from sqlalchemy import create_engine\n",
    "    \n",
    "    \n",
    "try:\n",
    "    import pandas as pd \n",
    "except:\n",
    "    !pip install pandas\n",
    "    import pandas as pd "
   ]
  },
  {
   "cell_type": "code",
   "execution_count": 16,
   "id": "c84e941a-7939-44f8-80a4-1988e02dc725",
   "metadata": {},
   "outputs": [
    {
     "name": "stderr",
     "output_type": "stream",
     "text": [
      "<ipython-input-16-008683b43ae6>:10: SADeprecationWarning: The Engine.table_names() method is deprecated and will be removed in a future release.  Please refer to Inspector.get_table_names(). (deprecated since: 1.4)\n",
      "  print(engine.table_names())\n"
     ]
    },
    {
     "name": "stdout",
     "output_type": "stream",
     "text": [
      "['users2020']\n"
     ]
    }
   ],
   "source": [
    "from sqlalchemy import create_engine\n",
    "import psycopg2\n",
    "\n",
    "host=\"postgres\" # use \"localhost\" if you access from outside the localnet docker-compose env \n",
    "database=\"testDB\"\n",
    "user=\"me\"\n",
    "password=\"1234\"\n",
    "port='5432'\n",
    "engine = create_engine(f'postgresql://{user}:{password}@{host}:{port}/{database}')\n",
    "print(engine.table_names())"
   ]
  },
  {
   "cell_type": "code",
   "execution_count": 17,
   "id": "1e22b2b0-d147-401a-88ae-8516eadb2558",
   "metadata": {},
   "outputs": [],
   "source": [
    "from faker import Faker\n",
    "import csv\n",
    "import pandas as pd \n",
    "def create_fake_data():\n",
    "    output=open('data.csv','w')\n",
    "    fake=Faker()\n",
    "    header=['name','age','street','city','state','zip','lng','lat']\n",
    "    mywriter=csv.writer(output)\n",
    "    mywriter.writerow(header)\n",
    "    for r in range(200):\n",
    "        row =[fake.name(),fake.random_int(min=18,max=80, step=1), \n",
    "                       fake.street_address(), fake.city(),fake.state(),\n",
    "                       fake.zipcode(),fake.longitude(),fake.latitude()]\n",
    "        mywriter.writerow(row)\n",
    "    output.close()\n",
    "    DF=pd.read_csv('data.csv')\n",
    "    \n",
    "    "
   ]
  },
  {
   "cell_type": "code",
   "execution_count": 18,
   "id": "884b673b-0f48-4958-841c-79e00cd023a1",
   "metadata": {},
   "outputs": [],
   "source": [
    "def data_to_postgres():\n",
    "    DF.to_sql('users2020', engine, if_exists='replace',index=False)"
   ]
  },
  {
   "cell_type": "code",
   "execution_count": null,
   "id": "6917660d-71b3-4f50-9ea5-d766782b17db",
   "metadata": {},
   "outputs": [],
   "source": [
    "import datetime as dt\n",
    "from datetime import timedelta\n",
    "from airflow import DAG\n",
    "from airflow.operators.bash_operator import BashOperator\n",
    "from airflow.operators.python_operator import PythonOperator"
   ]
  },
  {
   "cell_type": "code",
   "execution_count": null,
   "id": "26940546-5fe7-4952-87c6-79b5dd5f89e9",
   "metadata": {},
   "outputs": [],
   "source": [
    "def csv_to_json():\n",
    "    for i,j in DF2.iterrows():\n",
    "        print(j['name'])\n",
    "    DF2.to_json('/opt/airflow/dags/fake.json',orient='records')"
   ]
  },
  {
   "cell_type": "code",
   "execution_count": null,
   "id": "97f2ae50-6590-4aec-b0eb-7f43a8ea53a2",
   "metadata": {},
   "outputs": [],
   "source": [
    "def json_to_mongo:\n",
    "    client = MongoClient('mongo:27017',username='root',password='example')\n",
    "    db = client['airflow']\n",
    "    collection_fake = db['fake']\n",
    "    with open('fake.json') as f:\n",
    "        data = json.load(f)\n",
    "    collection_data.insert_many(file_data)\n",
    "    client.close()"
   ]
  },
  {
   "cell_type": "code",
   "execution_count": null,
   "id": "c2417697-a817-4094-bfe7-42780f6412b7",
   "metadata": {},
   "outputs": [],
   "source": [
    "\n",
    " \n",
    " \n",
    "default_args = {\n",
    "    ,'owner': 'Asma',\n",
    "    ,'start_date': dt.datetime(2021, 5, 10),\n",
    "    ,'retries': 1 \n",
    "    ,'retry_delay': dt.timedelta(minutes=10),\n",
    "}\n",
    " \n",
    "with DAG('csv_to_json',\n",
    " \n",
    "         default_args=default_args,\n",
    "         schedule_interval=timedelta(minutes=1),  \n",
    "        catchup=False,     \n",
    "         ) as dag:\n",
    " \n",
    "    create_fake_data = PythonOperator(task_id='creating',\n",
    "                             python_callable=create_fake_data)\n",
    "    \n",
    "    data_to_postgres = PythonOperator(task_id='data_to_postgres',\n",
    "                             python_callable=data_to_postgres)\n",
    "    \n",
    "    csv_to_json = PythonOperator(task_id='csv_to_json',\n",
    "                             python_callable=csv_to_json)\n",
    "    \n",
    "    json_to_mongo = PythonOperator(task_id='json_to_mongo',\n",
    "                              python_callable=json_to_mongo)\n",
    " \n",
    " \n",
    "\n",
    "create_fake_data >> data_to_postgres >> csv_to_json >> json_to_mongo"
   ]
  },
  {
   "cell_type": "code",
   "execution_count": null,
   "id": "8535fc2a-5b99-424e-85da-e5a0472c23cd",
   "metadata": {},
   "outputs": [],
   "source": []
  }
 ],
 "metadata": {
  "kernelspec": {
   "display_name": "Python 3",
   "language": "python",
   "name": "python3"
  },
  "language_info": {
   "codemirror_mode": {
    "name": "ipython",
    "version": 3
   },
   "file_extension": ".py",
   "mimetype": "text/x-python",
   "name": "python",
   "nbconvert_exporter": "python",
   "pygments_lexer": "ipython3",
   "version": "3.8.8"
  }
 },
 "nbformat": 4,
 "nbformat_minor": 5
}
